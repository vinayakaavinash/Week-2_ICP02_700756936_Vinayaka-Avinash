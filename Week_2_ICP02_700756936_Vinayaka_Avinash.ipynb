{
  "nbformat": 4,
  "nbformat_minor": 0,
  "metadata": {
    "colab": {
      "provenance": []
    },
    "kernelspec": {
      "name": "python3",
      "display_name": "Python 3"
    },
    "language_info": {
      "name": "python"
    }
  },
  "cells": [
    {
      "cell_type": "code",
      "execution_count": 2,
      "metadata": {
        "colab": {
          "base_uri": "https://localhost:8080/"
        },
        "id": "j90AOa4qz28p",
        "outputId": "0c797c7a-84fa-4f24-bea0-cea13b80d5b4"
      },
      "outputs": [
        {
          "output_type": "stream",
          "name": "stdout",
          "text": [
            "Total number of employees: 6\n",
            "Average salary: 92500.0\n"
          ]
        }
      ],
      "source": [
        "\n",
        "class Employee:\n",
        "    num_employees = 0\n",
        "\n",
        "    def __init__(self, name, family, salary, department):\n",
        "        self.name = name\n",
        "        self.family = family\n",
        "        self.salary = salary\n",
        "        self.department = department\n",
        "        Employee.num_employees += 1\n",
        "\n",
        "    @classmethod\n",
        "    def average_salary(cls, employees):\n",
        "        total_salary = sum(emp.salary for emp in employees)\n",
        "        return total_salary / len(employees)\n",
        "\n",
        "class FulltimeEmployee(Employee):\n",
        "    def __init__(self, name, family, salary, department, benefits):\n",
        "        super().__init__(name, family, salary, department)\n",
        "        self.benefits = benefits\n",
        "\n",
        "\n",
        "employee1 = Employee(\"Avinash\", \"Family 1\", 65000, \"manager\")\n",
        "employee2 = Employee(\"Vinayaka\", \"Family 2\", 70000, \"IT\")\n",
        "employee3 = Employee(\"Anabathula\",\"Family3\",120000, \"Team lead\")\n",
        "employee4 = Employee(\"Vinay\",\"Family 4\", 120000, \"Team lead\")\n",
        "\n",
        "\n",
        "fulltime_employee1 = FulltimeEmployee(\"Raj\", \"Family 5\", 90000, \"hospital\", \"Healthcare\")\n",
        "fulltime_employee2 = FulltimeEmployee(\"Ram\", \"Family 6\", 90000, \"Finance\", \"manager\")\n",
        "\n",
        "employees = [employee1, employee2, employee3, employee4, fulltime_employee1, fulltime_employee2]\n",
        "avg_salary = Employee.average_salary(employees)\n",
        "\n",
        "print(f\"Total number of employees: {Employee.num_employees}\")\n",
        "print(f\"Average salary: {avg_salary}\")"
      ]
    },
    {
      "cell_type": "code",
      "source": [
        "import numpy as np\n",
        "\n",
        "random_vector = np.random.uniform(1, 20, size=20)\n",
        "reshaped_array = random_vector.reshape(4, 5)\n",
        "max_indices = np.argmax(reshaped_array, axis=1)\n",
        "col_indices = np.arange(5)\n",
        "reshaped_array[np.arange(4)[:, np.newaxis], max_indices] = 0\n",
        "print(reshaped_array)"
      ],
      "metadata": {
        "colab": {
          "base_uri": "https://localhost:8080/"
        },
        "id": "XfClyvtB0IZw",
        "outputId": "7b876d32-5428-41b4-f781-543911aa0afb"
      },
      "execution_count": 3,
      "outputs": [
        {
          "output_type": "stream",
          "name": "stdout",
          "text": [
            "[[ 0.          0.          3.04006691  8.67875785  0.        ]\n",
            " [ 0.          0.          1.56806353 17.92216379  0.        ]\n",
            " [ 0.          0.         15.13766904  6.59865145  0.        ]\n",
            " [ 0.          0.         11.64098712 12.3621007   0.        ]]\n"
          ]
        }
      ]
    }
  ]
}